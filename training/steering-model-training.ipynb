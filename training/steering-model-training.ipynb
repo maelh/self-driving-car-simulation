{
 "cells": [
  {
   "cell_type": "code",
   "execution_count": null,
   "metadata": {},
   "outputs": [],
   "source": [
    "# store the notebook directory (which is the current working directory, initially, but might be changed later)\n",
    "if not 'notebookDir' in globals():\n",
    "    notebookDir = os.getcwd()"
   ]
  },
  {
   "cell_type": "code",
   "execution_count": null,
   "metadata": {
    "id": "fqiCu1AFH74N"
   },
   "outputs": [],
   "source": [
    "from fastai.vision import *\n",
    "from fastai.vision.all import *\n",
    "from pathlib import Path"
   ]
  },
  {
   "cell_type": "code",
   "execution_count": null,
   "metadata": {
    "id": "QK3Euc9-JVy1"
   },
   "outputs": [],
   "source": [
    "#from fastai.utils.show_install import *\n",
    "#show_install()"
   ]
  },
  {
   "cell_type": "code",
   "execution_count": null,
   "metadata": {
    "tags": []
   },
   "outputs": [],
   "source": [
    "td_path = Path(notebookDir) / 'training_data' / 'perfect left and right turn, from short and long end'\n",
    "all_path = td_path.rglob('*')\n",
    "[x.name for x in all_path if x.is_dir()]"
   ]
  },
  {
   "cell_type": "code",
   "execution_count": null,
   "metadata": {},
   "outputs": [],
   "source": [
    "#fnames = get_image_files(td_path)\n",
    "\n",
    "#def label_func(x): return x.parent.name\n",
    "\n",
    "#data = ImageDataLoaders.from_path_func(td_path, fnames, label_func, valid_pct=0.2, batch_tfms=Normalize.from_stats(*imagenet_stats))\n",
    "\n",
    "data = ImageDataLoaders.from_folder(td_path, valid_pct=0.2, batch_tfms=Normalize.from_stats(*imagenet_stats))\n",
    "#data.normalize(imagenet_stats)\n",
    "img,label = data.train_ds[0]\n",
    "label = data.vocab[label]\n",
    "img"
   ]
  },
  {
   "cell_type": "code",
   "execution_count": null,
   "metadata": {
    "id": "lTk1hpGjNRpA"
   },
   "outputs": [],
   "source": [
    "learn = cnn_learner(data, models.resnet18, pretrained=True, metrics=accuracy)"
   ]
  },
  {
   "cell_type": "code",
   "execution_count": null,
   "metadata": {
    "colab": {
     "base_uri": "https://localhost:8080/",
     "height": 677
    },
    "executionInfo": {
     "elapsed": 104643,
     "status": "ok",
     "timestamp": 1571253492816,
     "user": {
      "displayName": "Maël Hörz",
      "photoUrl": "",
      "userId": "05333326775108365077"
     },
     "user_tz": -120
    },
    "id": "KE_1eGURNUkP",
    "outputId": "b92debf3-3e2a-41f2-a56e-533fdcf59c11"
   },
   "outputs": [],
   "source": [
    "learn.fit_one_cycle(20, 0.01) # unsteady left turn"
   ]
  },
  {
   "cell_type": "code",
   "execution_count": null,
   "metadata": {},
   "outputs": [],
   "source": [
    "model_suffix = \"\" # adapt to prevent overwriting existing models\n",
    "model_name = td_path.name + model_suffix\n",
    "learn.export(td_path.parent / 'controller' / 'models' / (model_name + '.pkl'))"
   ]
  },
  {
   "cell_type": "code",
   "execution_count": null,
   "metadata": {
    "colab": {
     "base_uri": "https://localhost:8080/",
     "height": 725
    },
    "executionInfo": {
     "elapsed": 734,
     "status": "ok",
     "timestamp": 1571277919315,
     "user": {
      "displayName": "Maël Hörz",
      "photoUrl": "",
      "userId": "05333326775108365077"
     },
     "user_tz": -120
    },
    "id": "XOYh0BQeN8bm",
    "outputId": "a9fbb1a3-46c2-45d7-ad86-4bad776a1077"
   },
   "outputs": [],
   "source": [
    "interp = ClassificationInterpretation.from_learner(learn)\n",
    "interp.plot_top_losses(9, figsize=(15,11))"
   ]
  },
  {
   "cell_type": "code",
   "execution_count": null,
   "metadata": {
    "id": "K8_bMTYnadUM"
   },
   "outputs": [],
   "source": []
  },
  {
   "cell_type": "code",
   "execution_count": null,
   "metadata": {},
   "outputs": [],
   "source": []
  }
 ],
 "metadata": {
  "accelerator": "GPU",
  "colab": {
   "collapsed_sections": [],
   "name": "Untitled0.ipynb",
   "provenance": []
  },
  "kernelspec": {
   "display_name": "Python 3 (ipykernel)",
   "language": "python",
   "name": "python3"
  },
  "language_info": {
   "codemirror_mode": {
    "name": "ipython",
    "version": 3
   },
   "file_extension": ".py",
   "mimetype": "text/x-python",
   "name": "python",
   "nbconvert_exporter": "python",
   "pygments_lexer": "ipython3",
   "version": "3.9.7"
  }
 },
 "nbformat": 4,
 "nbformat_minor": 4
}
